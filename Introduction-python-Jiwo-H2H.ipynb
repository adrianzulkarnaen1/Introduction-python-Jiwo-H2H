{
  "cells": [
    {
      "cell_type": "code",
      "source": [
        "# Data langsung diinput ke dalam variabel\n",
        "nama = \"Jiwo H2H\"\n",
        "nim = \"12345678910\"\n",
        "nilai = 95"
      ],
      "metadata": {
        "id": "hUtbAX9wUYA5"
      },
      "id": "hUtbAX9wUYA5",
      "execution_count": 4,
      "outputs": []
    },
    {
      "cell_type": "code",
      "source": [
        "# Menampilkan tipe data dari setiap input\n",
        "print(f\"\\nNama: {nama} (type: {type(nama)})\")\n",
        "print(f\"NIM: {nim} (type: {type(nim)})\")\n",
        "print(f\"Nilai: {nilai} (type: {type(nilai)})\")"
      ],
      "metadata": {
        "colab": {
          "base_uri": "https://localhost:8080/"
        },
        "id": "b_4Ft5juUp8P",
        "outputId": "92d22350-c39d-44e5-d699-76c8136d3da5"
      },
      "id": "b_4Ft5juUp8P",
      "execution_count": 5,
      "outputs": [
        {
          "output_type": "stream",
          "name": "stdout",
          "text": [
            "\n",
            "Nama: Jiwo H2H (type: <class 'str'>)\n",
            "NIM: 12345678910 (type: <class 'str'>)\n",
            "Nilai: 95 (type: <class 'int'>)\n"
          ]
        }
      ]
    },
    {
      "cell_type": "code",
      "source": [
        "# Menentukan kategori nilai menggunakan if-elif-else\n",
        "if 85 <= nilai <= 100:\n",
        "    kategori = \"A (Sangat Baik)\"\n",
        "elif 75 <= nilai <= 84:\n",
        "    kategori = \"B (Baik)\"\n",
        "elif 60 <= nilai <= 74:\n",
        "    kategori = \"C (Cukup)\"\n",
        "elif 40 <= nilai <= 59:\n",
        "    kategori = \"D (Kurang)\"\n",
        "else:\n",
        "    kategori = \"E (Sangat Kurang)\""
      ],
      "metadata": {
        "id": "0oZxJy2wUxSy"
      },
      "id": "0oZxJy2wUxSy",
      "execution_count": 6,
      "outputs": []
    },
    {
      "cell_type": "code",
      "source": [
        "# Menampilkan hasil evaluasi\n",
        "print(\"\\nHasil Evaluasi:\")\n",
        "print(f\"Mahasiswa: {nama} (NIM: {nim})\")\n",
        "print(f\"Nilai Ujian: {nilai} Kategori Nilai: {kategori}\")"
      ],
      "metadata": {
        "colab": {
          "base_uri": "https://localhost:8080/"
        },
        "id": "kw2SXOObU28O",
        "outputId": "212a437a-6bbc-4c95-a061-8ba591ef3e6f"
      },
      "id": "kw2SXOObU28O",
      "execution_count": 7,
      "outputs": [
        {
          "output_type": "stream",
          "name": "stdout",
          "text": [
            "\n",
            "Hasil Evaluasi:\n",
            "Mahasiswa: Jiwo H2H (NIM: 12345678910)\n",
            "Nilai Ujian: 95 Kategori Nilai: A (Sangat Baik)\n"
          ]
        }
      ]
    }
  ],
  "metadata": {
    "kernelspec": {
      "display_name": "Python 3 (ipykernel)",
      "language": "python",
      "name": "python3"
    },
    "language_info": {
      "codemirror_mode": {
        "name": "ipython",
        "version": 3
      },
      "file_extension": ".py",
      "mimetype": "text/x-python",
      "name": "python",
      "nbconvert_exporter": "python",
      "pygments_lexer": "ipython3",
      "version": "3.11.4"
    },
    "colab": {
      "provenance": []
    }
  },
  "nbformat": 4,
  "nbformat_minor": 5
}